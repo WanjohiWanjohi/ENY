{
  "nbformat": 4,
  "nbformat_minor": 0,
  "metadata": {
    "colab": {
      "name": "BushFires.ipynb",
      "provenance": [],
      "collapsed_sections": [],
      "authorship_tag": "ABX9TyNK7QSLb1GyxdU1NqLhG8sD",
      "include_colab_link": true
    },
    "kernelspec": {
      "name": "python3",
      "display_name": "Python 3"
    },
    "language_info": {
      "name": "python"
    }
  },
  "cells": [
    {
      "cell_type": "markdown",
      "metadata": {
        "id": "view-in-github",
        "colab_type": "text"
      },
      "source": [
        "<a href=\"https://colab.research.google.com/github/WanjohiWanjohi/ENY/blob/main/BushFires.ipynb\" target=\"_parent\"><img src=\"https://colab.research.google.com/assets/colab-badge.svg\" alt=\"Open In Colab\"/></a>"
      ]
    },
    {
      "cell_type": "code",
      "metadata": {
        "colab": {
          "base_uri": "https://localhost:8080/"
        },
        "id": "ZYhF1V8ujmM3",
        "outputId": "dd8ca635-923c-41db-cce2-9df947d0a664"
      },
      "source": [
        "# !pip install geopandas"
      ],
      "execution_count": 8,
      "outputs": [
        {
          "output_type": "stream",
          "text": [
            "Collecting geopandas\n",
            "\u001b[?25l  Downloading https://files.pythonhosted.org/packages/d7/bf/e9cefb69d39155d122b6ddca53893b61535fa6ffdad70bf5ef708977f53f/geopandas-0.9.0-py2.py3-none-any.whl (994kB)\n",
            "\u001b[K     |████████████████████████████████| 1.0MB 5.6MB/s \n",
            "\u001b[?25hCollecting pyproj>=2.2.0\n",
            "\u001b[?25l  Downloading https://files.pythonhosted.org/packages/b1/72/d52e9ca81caef056062d71991b0e9b1d16af042245627c5d0e4916a36c4f/pyproj-3.0.1-cp37-cp37m-manylinux2010_x86_64.whl (6.5MB)\n",
            "\u001b[K     |████████████████████████████████| 6.5MB 12.2MB/s \n",
            "\u001b[?25hRequirement already satisfied: shapely>=1.6 in /usr/local/lib/python3.7/dist-packages (from geopandas) (1.7.1)\n",
            "Requirement already satisfied: pandas>=0.24.0 in /usr/local/lib/python3.7/dist-packages (from geopandas) (1.1.5)\n",
            "Collecting fiona>=1.8\n",
            "\u001b[?25l  Downloading https://files.pythonhosted.org/packages/ea/2a/404b22883298a3efe9c6ef8d67acbf2c38443fa366ee9cd4cd34e17626ea/Fiona-1.8.19-cp37-cp37m-manylinux1_x86_64.whl (15.3MB)\n",
            "\u001b[K     |████████████████████████████████| 15.3MB 204kB/s \n",
            "\u001b[?25hRequirement already satisfied: certifi in /usr/local/lib/python3.7/dist-packages (from pyproj>=2.2.0->geopandas) (2020.12.5)\n",
            "Requirement already satisfied: python-dateutil>=2.7.3 in /usr/local/lib/python3.7/dist-packages (from pandas>=0.24.0->geopandas) (2.8.1)\n",
            "Requirement already satisfied: numpy>=1.15.4 in /usr/local/lib/python3.7/dist-packages (from pandas>=0.24.0->geopandas) (1.19.5)\n",
            "Requirement already satisfied: pytz>=2017.2 in /usr/local/lib/python3.7/dist-packages (from pandas>=0.24.0->geopandas) (2018.9)\n",
            "Requirement already satisfied: click<8,>=4.0 in /usr/local/lib/python3.7/dist-packages (from fiona>=1.8->geopandas) (7.1.2)\n",
            "Requirement already satisfied: six>=1.7 in /usr/local/lib/python3.7/dist-packages (from fiona>=1.8->geopandas) (1.15.0)\n",
            "Collecting munch\n",
            "  Downloading https://files.pythonhosted.org/packages/cc/ab/85d8da5c9a45e072301beb37ad7f833cd344e04c817d97e0cc75681d248f/munch-2.5.0-py2.py3-none-any.whl\n",
            "Collecting click-plugins>=1.0\n",
            "  Downloading https://files.pythonhosted.org/packages/e9/da/824b92d9942f4e472702488857914bdd50f73021efea15b4cad9aca8ecef/click_plugins-1.1.1-py2.py3-none-any.whl\n",
            "Collecting cligj>=0.5\n",
            "  Downloading https://files.pythonhosted.org/packages/42/1e/947eadf10d6804bf276eb8a038bd5307996dceaaa41cfd21b7a15ec62f5d/cligj-0.7.1-py3-none-any.whl\n",
            "Requirement already satisfied: attrs>=17 in /usr/local/lib/python3.7/dist-packages (from fiona>=1.8->geopandas) (20.3.0)\n",
            "Installing collected packages: pyproj, munch, click-plugins, cligj, fiona, geopandas\n",
            "Successfully installed click-plugins-1.1.1 cligj-0.7.1 fiona-1.8.19 geopandas-0.9.0 munch-2.5.0 pyproj-3.0.1\n"
          ],
          "name": "stdout"
        }
      ]
    },
    {
      "cell_type": "code",
      "metadata": {
        "colab": {
          "base_uri": "https://localhost:8080/"
        },
        "id": "RHYenpQrtc6C",
        "outputId": "515b12cc-275c-4373-bbba-1ee3b08c030d"
      },
      "source": [
        "!pip install kneed\n"
      ],
      "execution_count": 42,
      "outputs": [
        {
          "output_type": "stream",
          "text": [
            "Collecting kneed\n",
            "  Downloading https://files.pythonhosted.org/packages/c3/6b/e130913aaaad1373060e259ab222ca2330672db696b297b082c3f3089fcc/kneed-0.7.0-py2.py3-none-any.whl\n",
            "Requirement already satisfied: matplotlib in /usr/local/lib/python3.7/dist-packages (from kneed) (3.2.2)\n",
            "Requirement already satisfied: numpy>=1.14.2 in /usr/local/lib/python3.7/dist-packages (from kneed) (1.19.5)\n",
            "Requirement already satisfied: scipy in /usr/local/lib/python3.7/dist-packages (from kneed) (1.4.1)\n",
            "Requirement already satisfied: kiwisolver>=1.0.1 in /usr/local/lib/python3.7/dist-packages (from matplotlib->kneed) (1.3.1)\n",
            "Requirement already satisfied: pyparsing!=2.0.4,!=2.1.2,!=2.1.6,>=2.0.1 in /usr/local/lib/python3.7/dist-packages (from matplotlib->kneed) (2.4.7)\n",
            "Requirement already satisfied: python-dateutil>=2.1 in /usr/local/lib/python3.7/dist-packages (from matplotlib->kneed) (2.8.1)\n",
            "Requirement already satisfied: cycler>=0.10 in /usr/local/lib/python3.7/dist-packages (from matplotlib->kneed) (0.10.0)\n",
            "Requirement already satisfied: six>=1.5 in /usr/local/lib/python3.7/dist-packages (from python-dateutil>=2.1->matplotlib->kneed) (1.15.0)\n",
            "Installing collected packages: kneed\n",
            "Successfully installed kneed-0.7.0\n"
          ],
          "name": "stdout"
        }
      ]
    },
    {
      "cell_type": "code",
      "metadata": {
        "id": "3k-71AJIhu0r"
      },
      "source": [
        "import pandas as pd\n",
        "import numpy as np \n",
        "import geopandas\n",
        "import matplotlib.pyplot as plt\n",
        "import seaborn as sns\n",
        "from kneed import KneeLocator\n",
        "from sklearn.datasets import make_blobs\n",
        "from sklearn.cluster import KMeans\n",
        "from sklearn.metrics import silhouette_score\n",
        "from sklearn.preprocessing import StandardScaler"
      ],
      "execution_count": 43,
      "outputs": []
    },
    {
      "cell_type": "code",
      "metadata": {
        "id": "2qWMUHaWh3fN"
      },
      "source": [
        "df_train = pd.read_csv('challenge1_train.csv' , date_parser=['dateTimeUTC' , 'dateTimeLocal'])\n",
        "df_test = pd.read_csv('challenge1_test.csv' , date_parser=['dateTimeUTC' , 'dateTimeLocal'])\n",
        "df_submission = pd.read_csv('sample_submission.csv')"
      ],
      "execution_count": 30,
      "outputs": []
    },
    {
      "cell_type": "markdown",
      "metadata": {
        "id": "uIMXOxYRjFRZ"
      },
      "source": [
        "Let's have a look at the data :\n",
        "1. Columns and rows \n",
        "2. Data types\n",
        "3. Null and not null rows\n",
        "4. Unique items in labels "
      ]
    },
    {
      "cell_type": "code",
      "metadata": {
        "colab": {
          "base_uri": "https://localhost:8080/"
        },
        "id": "Kw34MHrqisqL",
        "outputId": "8194004b-da74-4f26-e210-cf410db7e680"
      },
      "source": [
        "#get shape of test and train \n",
        "df_train.shape , df_test.shape , df_submission.shape"
      ],
      "execution_count": 16,
      "outputs": [
        {
          "output_type": "execute_result",
          "data": {
            "text/plain": [
              "((129, 4), (5000, 7), (5000, 2))"
            ]
          },
          "metadata": {
            "tags": []
          },
          "execution_count": 16
        }
      ]
    },
    {
      "cell_type": "code",
      "metadata": {
        "colab": {
          "base_uri": "https://localhost:8080/"
        },
        "id": "ieFR7fOfm9Vq",
        "outputId": "4f4f8a32-8239-4367-be65-8a1320486706"
      },
      "source": [
        "# data types \n",
        "df_train.dtypes , df_test.dtypes"
      ],
      "execution_count": 48,
      "outputs": [
        {
          "output_type": "execute_result",
          "data": {
            "text/plain": [
              "(id                        int64\n",
              " label                    object\n",
              " dateTimeLocal    datetime64[ns]\n",
              " dateTimeUTC      datetime64[ns]\n",
              " month                     int64\n",
              " year                      int64\n",
              " dtype: object, id                        int64\n",
              " label                    object\n",
              " x                         int64\n",
              " y                         int64\n",
              " dateTimeLocal    datetime64[ns]\n",
              " dateTimeUTC      datetime64[ns]\n",
              " target                  float64\n",
              " month                     int64\n",
              " year                      int64\n",
              " dtype: object)"
            ]
          },
          "metadata": {
            "tags": []
          },
          "execution_count": 48
        }
      ]
    },
    {
      "cell_type": "code",
      "metadata": {
        "colab": {
          "base_uri": "https://localhost:8080/"
        },
        "id": "giruMy7Qkece",
        "outputId": "d6fc0a18-c50d-4f7c-d46b-1d07f56a155e"
      },
      "source": [
        "# null items \n",
        "pd.isna(df_train).sum().sum() , pd.isna(df_test).sum().sum()"
      ],
      "execution_count": 18,
      "outputs": [
        {
          "output_type": "execute_result",
          "data": {
            "text/plain": [
              "(0, 5000)"
            ]
          },
          "metadata": {
            "tags": []
          },
          "execution_count": 18
        }
      ]
    },
    {
      "cell_type": "code",
      "metadata": {
        "colab": {
          "base_uri": "https://localhost:8080/"
        },
        "id": "-XcT4c6FpNva",
        "outputId": "f104e234-32a6-4aaf-d2b5-1128498f7178"
      },
      "source": [
        "#unique items in label column \n",
        "df_train['label'].nunique() , df_test['label'].nunique()"
      ],
      "execution_count": 40,
      "outputs": [
        {
          "output_type": "execute_result",
          "data": {
            "text/plain": [
              "(129, 5)"
            ]
          },
          "metadata": {
            "tags": []
          },
          "execution_count": 40
        }
      ]
    },
    {
      "cell_type": "markdown",
      "metadata": {
        "id": "kAkjT12flw29"
      },
      "source": [
        "The test gives a total of 5000 rows which accounts for target value "
      ]
    },
    {
      "cell_type": "markdown",
      "metadata": {
        "id": "NEg9a9eypeUp"
      },
      "source": [
        "The unique labels are more in the train set than the test"
      ]
    },
    {
      "cell_type": "markdown",
      "metadata": {
        "id": "tzlebHQcjLI9"
      },
      "source": [
        "#Feature Extraction \n",
        "We can identify a few extra features from the train and test set:\n",
        "From UTC , we can get the month , the season and the year\n",
        "From longitude and latitude we can "
      ]
    },
    {
      "cell_type": "markdown",
      "metadata": {
        "id": "4KY1txtZokUm"
      },
      "source": [
        "Steps: \n",
        "1. Convert date and time columns to datetime \n",
        "2. Get additional features for time and season\n",
        "3. "
      ]
    },
    {
      "cell_type": "code",
      "metadata": {
        "id": "Ylokj_OhmjGD"
      },
      "source": [
        "#get the year , month  and time  and day \n",
        "# convert  utc and datetime columns need to be in date time format\n",
        "df_train[[\"dateTimeLocal\", \"dateTimeUTC\",]] = df_train[[\"dateTimeLocal\", \"dateTimeUTC\"]].apply(pd.to_datetime)\n",
        "df_test[[\"dateTimeLocal\", \"dateTimeUTC\",]] = df_test[[\"dateTimeLocal\", \"dateTimeUTC\"]].apply(pd.to_datetime)\n"
      ],
      "execution_count": 35,
      "outputs": []
    },
    {
      "cell_type": "code",
      "metadata": {
        "id": "H0eAnvqAojTO"
      },
      "source": [
        "#Create columns\n",
        "import datetime as dt\n",
        "column_list = [ \"dateTimeUTC\"] \n",
        "def add_time_columns(df , column):\n",
        "  df['month'] = df[column].dt.month\n",
        "  df['year'] = df[column].dt.year\n",
        "\n",
        "  \n",
        "add_time_columns(df_train , 'dateTimeUTC')\n",
        "add_time_columns(df_test , 'dateTimeUTC')"
      ],
      "execution_count": 47,
      "outputs": []
    },
    {
      "cell_type": "markdown",
      "metadata": {
        "id": "1k7JicWFv4A7"
      },
      "source": [
        "# Encode the categorical data \n",
        "\n",
        "For this dataset , the label column takes a categorical form . Using Sci-kit learn's One Hot Encoder\n"
      ]
    },
    {
      "cell_type": "code",
      "metadata": {
        "colab": {
          "base_uri": "https://localhost:8080/"
        },
        "id": "-Q_0QHYev3UN",
        "outputId": "3198b698-9220-47bd-acb8-035971017478"
      },
      "source": [
        "from sklearn.preprocessing import OneHotEncoder\n",
        "\n",
        "OE = OneHotEncoder()\n",
        "train = OE.fit_transform(df_train[[\"label\"]])\n",
        "train_set = pd.DataFrame(train.toarray(), columns=OE.categories_)\n",
        "\n",
        "test = OE.fit_transform(df_test[[\"label\"]])\n",
        "test_set = pd.DataFrame(test.toarray(), columns=OE.categories_)\n"
      ],
      "execution_count": 55,
      "outputs": [
        {
          "output_type": "execute_result",
          "data": {
            "text/plain": [
              "<129x129 sparse matrix of type '<class 'numpy.float64'>'\n",
              "\twith 129 stored elements in Compressed Sparse Row format>"
            ]
          },
          "metadata": {
            "tags": []
          },
          "execution_count": 55
        }
      ]
    },
    {
      "cell_type": "markdown",
      "metadata": {
        "id": "sUFA1-hux8eO"
      },
      "source": [
        "#Pick principal features `"
      ]
    },
    {
      "cell_type": "code",
      "metadata": {
        "id": "6RkGh0_Nx7Tx"
      },
      "source": [
        ""
      ],
      "execution_count": null,
      "outputs": []
    },
    {
      "cell_type": "markdown",
      "metadata": {
        "id": "WolA-Ai1vYh_"
      },
      "source": [
        "# Scale Features\n"
      ]
    },
    {
      "cell_type": "code",
      "metadata": {
        "id": "eSk5-3j3vbeb"
      },
      "source": [
        "#using a standard scaler\n"
      ],
      "execution_count": null,
      "outputs": []
    },
    {
      "cell_type": "markdown",
      "metadata": {
        "id": "Mo7pesGYp1rJ"
      },
      "source": [
        "# Working on a sample model\n"
      ]
    }
  ]
}